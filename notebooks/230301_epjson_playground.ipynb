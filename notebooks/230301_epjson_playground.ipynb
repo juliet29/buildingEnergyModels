{
 "cells": [
  {
   "cell_type": "code",
   "execution_count": 1,
   "metadata": {},
   "outputs": [],
   "source": [
    "import os, json\n",
    "from icecream import ic\n",
    "ic.configureOutput(includeContext=True)\n",
    "from copy import deepcopy\n",
    "import pandas as pd\n"
   ]
  },
  {
   "cell_type": "code",
   "execution_count": 1,
   "metadata": {},
   "outputs": [],
   "source": [
    "import sys\n",
    "sys.path.insert(0, \"../scripts\")\n",
    "from schedules import *"
   ]
  },
  {
   "cell_type": "code",
   "execution_count": 2,
   "metadata": {},
   "outputs": [
    {
     "name": "stdout",
     "output_type": "stream",
     "text": [
      "A\n"
     ]
    },
    {
     "data": {
      "text/plain": [
       "{'data': [{'field': 'Through: 07/19'},\n",
       "  {'field': 'For: AllDays'},\n",
       "  {'field': 'Until: 12:01'},\n",
       "  {'field': 0},\n",
       "  {'field': 'Through: 07/19'},\n",
       "  {'field': 'For: AllDays'},\n",
       "  {'field': 'Until: 20:00'},\n",
       "  {'field': 1},\n",
       "  {'field': 'Through: 07/19'},\n",
       "  {'field': 'For: AllDays'},\n",
       "  {'field': 'Until: 24:00'},\n",
       "  {'field': 1},\n",
       "  {'field': 'Through: 07/20'},\n",
       "  {'field': 'For: AllDays'},\n",
       "  {'field': 'Until: 07:50'},\n",
       "  {'field': 0},\n",
       "  {'field': 'Through: 07/20'},\n",
       "  {'field': 'For: AllDays'},\n",
       "  {'field': 'Until: 12:30'},\n",
       "  {'field': 1},\n",
       "  {'field': 'Through: 07/20'},\n",
       "  {'field': 'For: AllDays'},\n",
       "  {'field': 'Until: 22:28'},\n",
       "  {'field': 0},\n",
       "  {'field': 'Through: 07/20'},\n",
       "  {'field': 'For: AllDays'},\n",
       "  {'field': 'Until: 24:00'},\n",
       "  {'field': 0},\n",
       "  {'field': 'Through: 07/21'},\n",
       "  {'field': 'For: AllDays'},\n",
       "  {'field': 'Until: 13:11'},\n",
       "  {'field': 1},\n",
       "  {'field': 'Through: 07/21'},\n",
       "  {'field': 'For: AllDays'},\n",
       "  {'field': 'Until: 15:06'},\n",
       "  {'field': 0},\n",
       "  {'field': 'Through: 07/21'},\n",
       "  {'field': 'For: AllDays'},\n",
       "  {'field': 'Until: 17:28'},\n",
       "  {'field': 1},\n",
       "  {'field': 'Through: 07/21'},\n",
       "  {'field': 'For: AllDays'},\n",
       "  {'field': 'Until: 22:45'},\n",
       "  {'field': 0},\n",
       "  {'field': 'Through: 07/21'},\n",
       "  {'field': 'For: AllDays'},\n",
       "  {'field': 'Until: 24:00'},\n",
       "  {'field': 0},\n",
       "  {'field': 'Through: 07/22'},\n",
       "  {'field': 'For: AllDays'},\n",
       "  {'field': 'Until: 07:50'},\n",
       "  {'field': 1},\n",
       "  {'field': 'Through: 07/22'},\n",
       "  {'field': 'For: AllDays'},\n",
       "  {'field': 'Until: 11:07'},\n",
       "  {'field': 0},\n",
       "  {'field': 'Through: 07/22'},\n",
       "  {'field': 'For: AllDays'},\n",
       "  {'field': 'Until: 16:00'},\n",
       "  {'field': 1},\n",
       "  {'field': 'Through: 07/22'},\n",
       "  {'field': 'For: AllDays'},\n",
       "  {'field': 'Until: 23:02'},\n",
       "  {'field': 0},\n",
       "  {'field': 'Through: 07/22'},\n",
       "  {'field': 'For: AllDays'},\n",
       "  {'field': 'Until: 24:00'},\n",
       "  {'field': 0},\n",
       "  {'field': 'Through: 07/23'},\n",
       "  {'field': 'For: AllDays'},\n",
       "  {'field': 'Until: 19:50'},\n",
       "  {'field': 1},\n",
       "  {'field': 'Through: 07/23'},\n",
       "  {'field': 'For: AllDays'},\n",
       "  {'field': 'Until: 24:00'},\n",
       "  {'field': 1},\n",
       "  {'field': 'Through: 07/24'},\n",
       "  {'field': 'For: AllDays'},\n",
       "  {'field': 'Until: 13:22'},\n",
       "  {'field': 0},\n",
       "  {'field': 'Through: 07/24'},\n",
       "  {'field': 'For: AllDays'},\n",
       "  {'field': 'Until: 19:33'},\n",
       "  {'field': 1},\n",
       "  {'field': 'Through: 07/24'},\n",
       "  {'field': 'For: AllDays'},\n",
       "  {'field': 'Until: 24:00'},\n",
       "  {'field': 1},\n",
       "  {'field': 'Through: 12/31'},\n",
       "  {'field': 'For: AllDays'},\n",
       "  {'field': 'Until: 24:00'},\n",
       "  {'field': 1}],\n",
       " 'schedule_type_limits_name': 'Fraction'}"
      ]
     },
     "execution_count": 2,
     "metadata": {},
     "output_type": "execute_result"
    }
   ],
   "source": [
    "create_schedule_object(None, dynamic_key=\"A\")"
   ]
  },
  {
   "attachments": {},
   "cell_type": "markdown",
   "metadata": {},
   "source": [
    "### import data "
   ]
  },
  {
   "cell_type": "code",
   "execution_count": 6,
   "metadata": {},
   "outputs": [],
   "source": [
    "root = \"../rosseRoomModel/\"\n",
    "\n",
    "filename = \"230301/AFN_SS2.epJSON\"\n",
    "with open(os.path.join(root, filename)) as f:\n",
    "    afn_model = json.load(f)\n",
    "\n",
    "\n",
    "filename = \"230306/rosse01.epJSON\" # os  => open studio model \n",
    "with open(os.path.join(root, filename)) as f:\n",
    "    rosse_model = json.load(f)\n",
    "\n",
    "\n",
    "# filename = \"test_01.epJSON\" # os  => open studio model \n",
    "# with open(os.path.join(root, filename)) as f:\n",
    "#     model = json.load(f)"
   ]
  },
  {
   "attachments": {},
   "cell_type": "markdown",
   "metadata": {},
   "source": [
    "### playground"
   ]
  },
  {
   "cell_type": "code",
   "execution_count": 7,
   "metadata": {},
   "outputs": [],
   "source": [
    "filename = \"/Users/julietnwagwuume-ezeoke/_UILCode/windows/analysis/constants/htimes.json\" # os  => open studio model \n",
    "with open(filename) as f:\n",
    "    htimes = json.load(f)"
   ]
  },
  {
   "cell_type": "code",
   "execution_count": 8,
   "metadata": {},
   "outputs": [],
   "source": [
    "for v in htimes.values():\n",
    "    for group in v:\n",
    "        group[\"open\"] = pd.to_datetime(group[\"open\"], format= '%Y, %m, %d, %H, %M' )\n",
    "        group[\"close\"] = pd.to_datetime(group[\"close\"], format= '%Y, %m, %d, %H, %M' )\n",
    "    #     print(group)\n",
    "    # print(\"\\n\")\n",
    "    \n",
    "        # group[\"open\"] = [pd.to_datetime(i) for i in group[\"open\"]]\n",
    "        # group[\"close\"] = [int(i) for i in group[\"close\"].split(\", \")]"
   ]
  },
  {
   "cell_type": "code",
   "execution_count": 4,
   "metadata": {},
   "outputs": [
    {
     "data": {
      "text/plain": [
       "{'072522': [{'open': Timestamp('2022-07-19 12:01:00'),\n",
       "   'close': Timestamp('2022-07-19 20:00:00')},\n",
       "  {'open': Timestamp('2022-07-20 07:50:00'),\n",
       "   'close': Timestamp('2022-07-20 12:30:00')},\n",
       "  {'open': Timestamp('2022-07-20 22:28:00'),\n",
       "   'close': Timestamp('2022-07-21 13:11:00')},\n",
       "  {'open': Timestamp('2022-07-21 15:06:00'),\n",
       "   'close': Timestamp('2022-07-21 17:28:00')},\n",
       "  {'open': Timestamp('2022-07-21 22:45:00'),\n",
       "   'close': Timestamp('2022-07-22 07:50:00')},\n",
       "  {'open': Timestamp('2022-07-22 11:07:00'),\n",
       "   'close': Timestamp('2022-07-22 16:00:00')},\n",
       "  {'open': Timestamp('2022-07-22 23:02:00'),\n",
       "   'close': Timestamp('2022-07-23 19:50:00')},\n",
       "  {'open': Timestamp('2022-07-24 13:22:00'),\n",
       "   'close': Timestamp('2022-07-24 19:33:00')}],\n",
       " '081622': [{'open': Timestamp('2022-07-27 09:00:00'),\n",
       "   'close': Timestamp('2022-08-01 19:30:00')},\n",
       "  {'open': Timestamp('2022-08-01 20:13:00'),\n",
       "   'close': Timestamp('2022-08-02 12:25:00')},\n",
       "  {'open': Timestamp('2022-08-02 18:13:00'),\n",
       "   'close': Timestamp('2022-08-10 07:52:00')},\n",
       "  {'open': Timestamp('2022-08-10 11:58:00'),\n",
       "   'close': Timestamp('2022-08-10 12:40:00')},\n",
       "  {'open': Timestamp('2022-08-10 17:24:00'),\n",
       "   'close': Timestamp('2022-08-10 17:24:00')}],\n",
       " '092022': [{'open': Timestamp('2022-09-08 17:00:00'),\n",
       "   'close': Timestamp('2022-09-09 07:54:00')},\n",
       "  {'open': Timestamp('2022-09-09 08:17:00'),\n",
       "   'close': Timestamp('2022-09-09 13:00:00')},\n",
       "  {'open': Timestamp('2022-09-09 17:55:00'),\n",
       "   'close': Timestamp('2022-09-11 04:21:00')},\n",
       "  {'open': Timestamp('2022-09-11 06:00:00'),\n",
       "   'close': Timestamp('2022-09-11 08:00:00')}]}"
      ]
     },
     "execution_count": 4,
     "metadata": {},
     "output_type": "execute_result"
    }
   ],
   "source": [
    "htimes"
   ]
  },
  {
   "cell_type": "code",
   "execution_count": 9,
   "metadata": {},
   "outputs": [],
   "source": [
    "# for v in htimes.values():\n",
    "#     for group in v:\n",
    "#         group[\"open\"] = [int(i) for i in group[\"open\"].split(\", \")]\n",
    "#         group[\"close\"] = [int(i) for i in group[\"close\"].split(\", \")]"
   ]
  },
  {
   "cell_type": "code",
   "execution_count": 10,
   "metadata": {},
   "outputs": [
    {
     "data": {
      "text/plain": [
       "dict_keys(['072522', '081622', '092022'])"
      ]
     },
     "execution_count": 10,
     "metadata": {},
     "output_type": "execute_result"
    }
   ],
   "source": [
    "htimes.keys()"
   ]
  },
  {
   "cell_type": "code",
   "execution_count": 11,
   "metadata": {},
   "outputs": [
    {
     "data": {
      "text/plain": [
       "{'A': '072522', 'B': '081622', 'C': '092022'}"
      ]
     },
     "execution_count": 11,
     "metadata": {},
     "output_type": "execute_result"
    }
   ],
   "source": [
    "{letter:key for letter, key in zip([\"A\", \"B\", \"C\"], htimes.keys())}"
   ]
  },
  {
   "cell_type": "code",
   "execution_count": 12,
   "metadata": {},
   "outputs": [
    {
     "data": {
      "text/plain": [
       "[{'open': Timestamp('2022-07-19 12:01:00'),\n",
       "  'close': Timestamp('2022-07-19 20:00:00')},\n",
       " {'open': Timestamp('2022-07-20 07:50:00'),\n",
       "  'close': Timestamp('2022-07-20 12:30:00')},\n",
       " {'open': Timestamp('2022-07-20 22:28:00'),\n",
       "  'close': Timestamp('2022-07-21 13:11:00')},\n",
       " {'open': Timestamp('2022-07-21 15:06:00'),\n",
       "  'close': Timestamp('2022-07-21 17:28:00')},\n",
       " {'open': Timestamp('2022-07-21 22:45:00'),\n",
       "  'close': Timestamp('2022-07-22 07:50:00')},\n",
       " {'open': Timestamp('2022-07-22 11:07:00'),\n",
       "  'close': Timestamp('2022-07-22 16:00:00')},\n",
       " {'open': Timestamp('2022-07-22 23:02:00'),\n",
       "  'close': Timestamp('2022-07-23 19:50:00')},\n",
       " {'open': Timestamp('2022-07-24 13:22:00'),\n",
       "  'close': Timestamp('2022-07-24 19:33:00')}]"
      ]
     },
     "execution_count": 12,
     "metadata": {},
     "output_type": "execute_result"
    }
   ],
   "source": [
    "htimes['072522']"
   ]
  },
  {
   "cell_type": "code",
   "execution_count": 13,
   "metadata": {},
   "outputs": [],
   "source": [
    "t = [[i[\"open\"]] + [i[\"close\"]] for i in htimes['072522']]"
   ]
  },
  {
   "cell_type": "code",
   "execution_count": 14,
   "metadata": {},
   "outputs": [],
   "source": [
    "def flatten(l):\n",
    "    return [item for sublist in l for item in sublist]"
   ]
  },
  {
   "cell_type": "code",
   "execution_count": 15,
   "metadata": {},
   "outputs": [],
   "source": [
    "ts = flatten(t)"
   ]
  },
  {
   "cell_type": "code",
   "execution_count": 16,
   "metadata": {},
   "outputs": [
    {
     "data": {
      "text/plain": [
       "datetime.date(2022, 7, 19)"
      ]
     },
     "execution_count": 16,
     "metadata": {},
     "output_type": "execute_result"
    }
   ],
   "source": [
    "ts[0].date()"
   ]
  },
  {
   "cell_type": "code",
   "execution_count": 17,
   "metadata": {},
   "outputs": [
    {
     "data": {
      "text/plain": [
       "True"
      ]
     },
     "execution_count": 17,
     "metadata": {},
     "output_type": "execute_result"
    }
   ],
   "source": [
    "ts[0].time() < ts[1].time()"
   ]
  },
  {
   "cell_type": "code",
   "execution_count": 18,
   "metadata": {},
   "outputs": [
    {
     "data": {
      "text/plain": [
       "[Timestamp('2022-07-19 12:01:00'),\n",
       " Timestamp('2022-07-19 20:00:00'),\n",
       " Timestamp('2022-07-20 07:50:00'),\n",
       " Timestamp('2022-07-20 12:30:00'),\n",
       " Timestamp('2022-07-20 22:28:00'),\n",
       " Timestamp('2022-07-21 13:11:00'),\n",
       " Timestamp('2022-07-21 15:06:00'),\n",
       " Timestamp('2022-07-21 17:28:00'),\n",
       " Timestamp('2022-07-21 22:45:00'),\n",
       " Timestamp('2022-07-22 07:50:00'),\n",
       " Timestamp('2022-07-22 11:07:00'),\n",
       " Timestamp('2022-07-22 16:00:00'),\n",
       " Timestamp('2022-07-22 23:02:00'),\n",
       " Timestamp('2022-07-23 19:50:00'),\n",
       " Timestamp('2022-07-24 13:22:00'),\n",
       " Timestamp('2022-07-24 19:33:00')]"
      ]
     },
     "execution_count": 18,
     "metadata": {},
     "output_type": "execute_result"
    }
   ],
   "source": [
    "ts"
   ]
  },
  {
   "cell_type": "code",
   "execution_count": 19,
   "metadata": {},
   "outputs": [],
   "source": [
    "def check_last_time(time):\n",
    "    times_on_day = []\n",
    "    for t in ts:\n",
    "        # check that we are on the same day \n",
    "        if t.date() == time.date():\n",
    "            # check if this time is later than the others\n",
    "            if time.time() >= t.time():\n",
    "                times_on_day.append(True)\n",
    "            else:\n",
    "                times_on_day.append(False)\n",
    "    \n",
    "    # check the last item of the dictionary \n",
    "    if times_on_day[-1] == False:\n",
    "        return False\n",
    "    else:\n",
    "        return True\n",
    "\n",
    "    # check if this time is the last time on the day "
   ]
  },
  {
   "cell_type": "code",
   "execution_count": 20,
   "metadata": {},
   "outputs": [
    {
     "data": {
      "text/plain": [
       "True"
      ]
     },
     "execution_count": 20,
     "metadata": {},
     "output_type": "execute_result"
    }
   ],
   "source": [
    "check_last_time(ts[12])"
   ]
  },
  {
   "cell_type": "code",
   "execution_count": 21,
   "metadata": {},
   "outputs": [],
   "source": [
    "def add_times(t, window_status):\n",
    "    \"\"\"t:time stamp\n",
    "    window_status: 0 if closed, 1 if open. if dictionary says 'open', then until this point it has been closed, so input 0, and vice versa\"\"\"\n",
    "    data = []\n",
    "    data.append({\"field\": f\"Through: {t.strftime(format='%m/%d')}\"})\n",
    "    data.append({\"field\": f\"For: AllDays\"})\n",
    "    data.append({\"field\": f\"Until: {t.strftime(format='%H:%M')}\"})\n",
    "    data.append({\"field\": window_status})\n",
    "    if check_last_time(t): \n",
    "        data.append({\"field\": f\"Through: {t.strftime(format='%m/%d')}\"})\n",
    "        data.append({\"field\": f\"For: AllDays\"})\n",
    "        data.append({\"field\": f\"Until: 24:00\"})\n",
    "        data.append({\"field\": window_status})\n",
    "    return data\n"
   ]
  },
  {
   "cell_type": "code",
   "execution_count": null,
   "metadata": {},
   "outputs": [],
   "source": []
  },
  {
   "cell_type": "code",
   "execution_count": 27,
   "metadata": {},
   "outputs": [],
   "source": [
    "def create_variable_schedule(key):\n",
    "    exp_date = {letter:key for letter, key in zip([\"A\", \"B\", \"C\"], htimes.keys())}\n",
    "    item = exp_date[key]\n",
    "    data = []\n",
    "    for i, time in enumerate(htimes[item]):\n",
    "        d = add_times(time[\"open\"], 0)\n",
    "        data.extend(d)\n",
    "        d = add_times(time[\"close\"], 1)\n",
    "        data.extend(d)"
   ]
  },
  {
   "cell_type": "code",
   "execution_count": 28,
   "metadata": {},
   "outputs": [],
   "source": [
    "create_variable_schedule(\"A\")"
   ]
  },
  {
   "cell_type": "code",
   "execution_count": 23,
   "metadata": {},
   "outputs": [
    {
     "data": {
      "text/plain": [
       "[{'field': 'Through: 07/19'},\n",
       " {'field': 'For: AllDays'},\n",
       " {'field': 'Until: 12:01'},\n",
       " {'field': 0},\n",
       " {'field': 'Through: 07/19'},\n",
       " {'field': 'For: AllDays'},\n",
       " {'field': 'Until: 20:00'},\n",
       " {'field': 1},\n",
       " {'field': 'Through: 07/19'},\n",
       " {'field': 'For: AllDays'},\n",
       " {'field': 'Until: 24:00'},\n",
       " {'field': 1},\n",
       " {'field': 'Through: 07/20'},\n",
       " {'field': 'For: AllDays'},\n",
       " {'field': 'Until: 07:50'},\n",
       " {'field': 0},\n",
       " {'field': 'Through: 07/20'},\n",
       " {'field': 'For: AllDays'},\n",
       " {'field': 'Until: 12:30'},\n",
       " {'field': 1},\n",
       " {'field': 'Through: 07/20'},\n",
       " {'field': 'For: AllDays'},\n",
       " {'field': 'Until: 22:28'},\n",
       " {'field': 0},\n",
       " {'field': 'Through: 07/20'},\n",
       " {'field': 'For: AllDays'},\n",
       " {'field': 'Until: 24:00'},\n",
       " {'field': 0},\n",
       " {'field': 'Through: 07/21'},\n",
       " {'field': 'For: AllDays'},\n",
       " {'field': 'Until: 13:11'},\n",
       " {'field': 1},\n",
       " {'field': 'Through: 07/21'},\n",
       " {'field': 'For: AllDays'},\n",
       " {'field': 'Until: 15:06'},\n",
       " {'field': 0},\n",
       " {'field': 'Through: 07/21'},\n",
       " {'field': 'For: AllDays'},\n",
       " {'field': 'Until: 17:28'},\n",
       " {'field': 1},\n",
       " {'field': 'Through: 07/21'},\n",
       " {'field': 'For: AllDays'},\n",
       " {'field': 'Until: 22:45'},\n",
       " {'field': 0},\n",
       " {'field': 'Through: 07/21'},\n",
       " {'field': 'For: AllDays'},\n",
       " {'field': 'Until: 24:00'},\n",
       " {'field': 0},\n",
       " {'field': 'Through: 07/22'},\n",
       " {'field': 'For: AllDays'},\n",
       " {'field': 'Until: 07:50'},\n",
       " {'field': 1},\n",
       " {'field': 'Through: 07/22'},\n",
       " {'field': 'For: AllDays'},\n",
       " {'field': 'Until: 11:07'},\n",
       " {'field': 0},\n",
       " {'field': 'Through: 07/22'},\n",
       " {'field': 'For: AllDays'},\n",
       " {'field': 'Until: 16:00'},\n",
       " {'field': 1},\n",
       " {'field': 'Through: 07/22'},\n",
       " {'field': 'For: AllDays'},\n",
       " {'field': 'Until: 23:02'},\n",
       " {'field': 0},\n",
       " {'field': 'Through: 07/22'},\n",
       " {'field': 'For: AllDays'},\n",
       " {'field': 'Until: 24:00'},\n",
       " {'field': 0},\n",
       " {'field': 'Through: 07/23'},\n",
       " {'field': 'For: AllDays'},\n",
       " {'field': 'Until: 19:50'},\n",
       " {'field': 1},\n",
       " {'field': 'Through: 07/23'},\n",
       " {'field': 'For: AllDays'},\n",
       " {'field': 'Until: 24:00'},\n",
       " {'field': 1},\n",
       " {'field': 'Through: 07/24'},\n",
       " {'field': 'For: AllDays'},\n",
       " {'field': 'Until: 13:22'},\n",
       " {'field': 0},\n",
       " {'field': 'Through: 07/24'},\n",
       " {'field': 'For: AllDays'},\n",
       " {'field': 'Until: 19:33'},\n",
       " {'field': 1},\n",
       " {'field': 'Through: 07/24'},\n",
       " {'field': 'For: AllDays'},\n",
       " {'field': 'Until: 24:00'},\n",
       " {'field': 1}]"
      ]
     },
     "execution_count": 23,
     "metadata": {},
     "output_type": "execute_result"
    }
   ],
   "source": [
    "data = []\n",
    "for i, time in enumerate(htimes['072522']):\n",
    "    d = add_times(time[\"open\"], 0)\n",
    "    data.extend(d)\n",
    "    d = add_times(time[\"close\"], 1)\n",
    "    data.extend(d)\n",
    "   \n",
    "\n",
    "data"
   ]
  }
 ],
 "metadata": {
  "kernelspec": {
   "display_name": "bemvenv",
   "language": "python",
   "name": "python3"
  },
  "language_info": {
   "codemirror_mode": {
    "name": "ipython",
    "version": 3
   },
   "file_extension": ".py",
   "mimetype": "text/x-python",
   "name": "python",
   "nbconvert_exporter": "python",
   "pygments_lexer": "ipython3",
   "version": "3.9.15"
  },
  "orig_nbformat": 4,
  "vscode": {
   "interpreter": {
    "hash": "5be454c65b63a7289b24d02e50a650166e6fc25a8d3567c38c97c5abc5623162"
   }
  }
 },
 "nbformat": 4,
 "nbformat_minor": 2
}
