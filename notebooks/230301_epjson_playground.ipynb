{
 "cells": [
  {
   "cell_type": "code",
   "execution_count": 1,
   "metadata": {},
   "outputs": [],
   "source": [
    "import os, json\n",
    "from icecream import ic\n",
    "ic.configureOutput(includeContext=True)\n",
    "from copy import deepcopy\n"
   ]
  },
  {
   "attachments": {},
   "cell_type": "markdown",
   "metadata": {},
   "source": [
    "### import data "
   ]
  },
  {
   "cell_type": "code",
   "execution_count": 2,
   "metadata": {},
   "outputs": [],
   "source": [
    "root = \"../rosseRoomModel/230301_rr/\"\n",
    "\n",
    "filename = \"AFN_SS2.epJSON\"\n",
    "with open(os.path.join(root, filename)) as f:\n",
    "    afn_model = json.load(f)\n",
    "\n",
    "\n",
    "filename = \"os.epJSON\" # os  => open studio model \n",
    "with open(os.path.join(root, filename)) as f:\n",
    "    rosse_model = json.load(f)\n",
    "\n",
    "\n",
    "filename = \"test_01.epJSON\" # os  => open studio model \n",
    "with open(os.path.join(root, filename)) as f:\n",
    "    model = json.load(f)"
   ]
  },
  {
   "attachments": {},
   "cell_type": "markdown",
   "metadata": {},
   "source": [
    "### playground"
   ]
  },
  {
   "cell_type": "code",
   "execution_count": null,
   "metadata": {},
   "outputs": [],
   "source": [
    "def create_AFN_zone(name=\"Default\"):\n",
    "    return {\n",
    "            \"single_sided_wind_pressure_coefficient_algorithm\": \"Standard\",\n",
    "            \"ventilation_control_mode\": \"Constant\",\n",
    "            \"zone_name\": name\n",
    "            }\n"
   ]
  }
 ],
 "metadata": {
  "kernelspec": {
   "display_name": "bemvenv",
   "language": "python",
   "name": "python3"
  },
  "language_info": {
   "codemirror_mode": {
    "name": "ipython",
    "version": 3
   },
   "file_extension": ".py",
   "mimetype": "text/x-python",
   "name": "python",
   "nbconvert_exporter": "python",
   "pygments_lexer": "ipython3",
   "version": "3.9.15"
  },
  "orig_nbformat": 4,
  "vscode": {
   "interpreter": {
    "hash": "5be454c65b63a7289b24d02e50a650166e6fc25a8d3567c38c97c5abc5623162"
   }
  }
 },
 "nbformat": 4,
 "nbformat_minor": 2
}
