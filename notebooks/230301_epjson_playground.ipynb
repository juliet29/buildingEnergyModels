{
 "cells": [
  {
   "cell_type": "code",
   "execution_count": 1,
   "metadata": {},
   "outputs": [],
   "source": [
    "import os, json\n"
   ]
  },
  {
   "attachments": {},
   "cell_type": "markdown",
   "metadata": {},
   "source": [
    "### import data "
   ]
  },
  {
   "cell_type": "code",
   "execution_count": 2,
   "metadata": {},
   "outputs": [],
   "source": [
    "root = \"../rosseRoomModel/230301_rr/\"\n",
    "\n",
    "filename = \"AFN_SS2.epJSON\"\n",
    "with open(os.path.join(root, filename)) as f:\n",
    "    afn_model = json.load(f)\n",
    "\n",
    "\n",
    "filename = \"os.epJSON\" # os  => open studio model \n",
    "with open(os.path.join(root, filename)) as f:\n",
    "    rosse_model = json.load(f)\n",
    "\n",
    "\n",
    "filename = \"test_01.epJSON\" # os  => open studio model \n",
    "with open(os.path.join(root, filename)) as f:\n",
    "    model = json.load(f)"
   ]
  },
  {
   "attachments": {},
   "cell_type": "markdown",
   "metadata": {},
   "source": [
    "### playground"
   ]
  },
  {
   "cell_type": "code",
   "execution_count": 4,
   "metadata": {},
   "outputs": [
    {
     "data": {
      "text/plain": [
       "{'SliderWindow': {'air_mass_flow_coefficient_when_opening_is_closed': 0.001,\n",
       "  'air_mass_flow_exponent_when_opening_is_closed': 0.667,\n",
       "  'discharge_coefficient_for_opening_factor_1': 0.61,\n",
       "  'discharge_coefficient_for_opening_factor_2': 0.61,\n",
       "  'extra_crack_length_or_height_of_pivoting_axis': 0.0,\n",
       "  'height_factor_for_opening_factor_1': 1.0,\n",
       "  'height_factor_for_opening_factor_2': 1.0,\n",
       "  'number_of_sets_of_opening_factor_data': 2,\n",
       "  'opening_factor_1': 0.0,\n",
       "  'opening_factor_2': 1.0,\n",
       "  'start_height_factor_for_opening_factor_1': 0.0,\n",
       "  'start_height_factor_for_opening_factor_2': 0.0,\n",
       "  'type_of_rectangular_large_vertical_opening_lvo_': 'NonPivoted',\n",
       "  'width_factor_for_opening_factor_1': 0.0,\n",
       "  'width_factor_for_opening_factor_2': 0.5}}"
      ]
     },
     "execution_count": 4,
     "metadata": {},
     "output_type": "execute_result"
    }
   ],
   "source": [
    "slider_window =  \n",
    "slider_window"
   ]
  },
  {
   "cell_type": "code",
   "execution_count": 7,
   "metadata": {},
   "outputs": [
    {
     "data": {
      "text/plain": [
       "{'leakage_component_name': 'SliderWindow',\n",
       " 'surface_name': 'South_Zone_South_Wall_Right_Window',\n",
       " 'window_door_opening_factor_or_crack_factor': 1}"
      ]
     },
     "execution_count": 7,
     "metadata": {},
     "output_type": "execute_result"
    }
   ],
   "source": [
    "surface_ex = afn_model[\"AirflowNetwork:MultiZone:Surface\"][\"AirflowNetwork:MultiZone:Surface 1\"]\n",
    "surface_ex"
   ]
  },
  {
   "cell_type": "code",
   "execution_count": 9,
   "metadata": {},
   "outputs": [
    {
     "data": {
      "text/plain": [
       "{'Sub Surface 1': {'building_surface_name': 'Front A',\n",
       "  'construction_name': 'ASHRAE 189.1-2009 ExtWindow ClimateZone 4',\n",
       "  'surface_type': 'Window',\n",
       "  'vertex_1_x_coordinate': 0.65,\n",
       "  'vertex_1_y_coordinate': 0,\n",
       "  'vertex_1_z_coordinate': 3.05,\n",
       "  'vertex_2_x_coordinate': 0.65,\n",
       "  'vertex_2_y_coordinate': 0,\n",
       "  'vertex_2_z_coordinate': 1.55,\n",
       "  'vertex_3_x_coordinate': 2.15,\n",
       "  'vertex_3_y_coordinate': 0,\n",
       "  'vertex_3_z_coordinate': 1.55,\n",
       "  'vertex_4_x_coordinate': 2.15,\n",
       "  'vertex_4_y_coordinate': 0,\n",
       "  'vertex_4_z_coordinate': 3.05},\n",
       " 'Sub Surface 2': {'building_surface_name': 'Front B',\n",
       "  'construction_name': 'ASHRAE 189.1-2009 ExtWindow ClimateZone 4',\n",
       "  'surface_type': 'Window',\n",
       "  'vertex_1_x_coordinate': 2.5,\n",
       "  'vertex_1_y_coordinate': 0,\n",
       "  'vertex_1_z_coordinate': 3.05,\n",
       "  'vertex_2_x_coordinate': 2.5,\n",
       "  'vertex_2_y_coordinate': 0,\n",
       "  'vertex_2_z_coordinate': 1.55,\n",
       "  'vertex_3_x_coordinate': 4.00000000000001,\n",
       "  'vertex_3_y_coordinate': 0,\n",
       "  'vertex_3_z_coordinate': 1.55,\n",
       "  'vertex_4_x_coordinate': 4.00000000000001,\n",
       "  'vertex_4_y_coordinate': 0,\n",
       "  'vertex_4_z_coordinate': 3.05}}"
      ]
     },
     "execution_count": 9,
     "metadata": {},
     "output_type": "execute_result"
    }
   ],
   "source": [
    "model[\"FenestrationSurface:Detailed\"]"
   ]
  },
  {
   "cell_type": "code",
   "execution_count": 10,
   "metadata": {},
   "outputs": [
    {
     "name": "stdout",
     "output_type": "stream",
     "text": [
      "Sub Surface 1\n",
      "Sub Surface 2\n"
     ]
    }
   ],
   "source": [
    "for w in model[\"FenestrationSurface:Detailed\"].keys():\n",
    "    print(w)"
   ]
  },
  {
   "cell_type": "code",
   "execution_count": 24,
   "metadata": {},
   "outputs": [
    {
     "name": "stdout",
     "output_type": "stream",
     "text": [
      "{'leakage_component_name': 'SliderWindow', 'surface_name': 'West_Zone_West_Wall_Right_Window', 'window_door_opening_factor_or_crack_factor': 1}\n",
      "{'leakage_component_name': 'SliderWindow', 'surface_name': 'West_Zone_West_Wall_Left_Window', 'window_door_opening_factor_or_crack_factor': 1}\n",
      "{'leakage_component_name': 'WallCrack', 'surface_name': 'West_Zone_West_Wall', 'window_door_opening_factor_or_crack_factor': 1}\n"
     ]
    }
   ],
   "source": [
    "for k,v in afn_model[\"AirflowNetwork:MultiZone:Surface\"].items():\n",
    "    if \"West\" in v[\"surface_name\"]:\n",
    "        print(v)\n",
    "        \n"
   ]
  }
 ],
 "metadata": {
  "kernelspec": {
   "display_name": "bemvenv",
   "language": "python",
   "name": "python3"
  },
  "language_info": {
   "codemirror_mode": {
    "name": "ipython",
    "version": 3
   },
   "file_extension": ".py",
   "mimetype": "text/x-python",
   "name": "python",
   "nbconvert_exporter": "python",
   "pygments_lexer": "ipython3",
   "version": "3.9.15"
  },
  "orig_nbformat": 4,
  "vscode": {
   "interpreter": {
    "hash": "5be454c65b63a7289b24d02e50a650166e6fc25a8d3567c38c97c5abc5623162"
   }
  }
 },
 "nbformat": 4,
 "nbformat_minor": 2
}
