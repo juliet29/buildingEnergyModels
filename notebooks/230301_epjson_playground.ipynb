{
 "cells": [
  {
   "cell_type": "code",
   "execution_count": 3,
   "metadata": {},
   "outputs": [],
   "source": [
    "import os, json\n",
    "from icecream import ic\n",
    "ic.configureOutput(includeContext=True)\n",
    "from copy import deepcopy\n",
    "import pandas as pd\n"
   ]
  },
  {
   "attachments": {},
   "cell_type": "markdown",
   "metadata": {},
   "source": [
    "### import data "
   ]
  },
  {
   "cell_type": "code",
   "execution_count": 4,
   "metadata": {},
   "outputs": [],
   "source": [
    "root = \"../rosseRoomModel/\"\n",
    "\n",
    "filename = \"230301/AFN_SS2.epJSON\"\n",
    "with open(os.path.join(root, filename)) as f:\n",
    "    afn_model = json.load(f)\n",
    "\n",
    "\n",
    "filename = \"230306/rosse01.epJSON\" # os  => open studio model \n",
    "with open(os.path.join(root, filename)) as f:\n",
    "    rosse_model = json.load(f)\n",
    "\n",
    "\n",
    "# filename = \"test_01.epJSON\" # os  => open studio model \n",
    "# with open(os.path.join(root, filename)) as f:\n",
    "#     model = json.load(f)"
   ]
  },
  {
   "attachments": {},
   "cell_type": "markdown",
   "metadata": {},
   "source": [
    "### playground"
   ]
  },
  {
   "cell_type": "code",
   "execution_count": 5,
   "metadata": {},
   "outputs": [],
   "source": [
    "filename = \"/Users/julietnwagwuume-ezeoke/_UILCode/windows/analysis/constants/htimes.json\" # os  => open studio model \n",
    "with open(filename) as f:\n",
    "    htimes = json.load(f)"
   ]
  },
  {
   "cell_type": "code",
   "execution_count": 6,
   "metadata": {},
   "outputs": [],
   "source": [
    "for v in htimes.values():\n",
    "    for group in v:\n",
    "        group[\"open\"] = pd.to_datetime(group[\"open\"], format= '%Y, %m, %d, %H, %M' )\n",
    "        group[\"close\"] = pd.to_datetime(group[\"close\"], format= '%Y, %m, %d, %H, %M' )\n",
    "    #     print(group)\n",
    "    # print(\"\\n\")\n",
    "    \n",
    "        # group[\"open\"] = [pd.to_datetime(i) for i in group[\"open\"]]\n",
    "        # group[\"close\"] = [int(i) for i in group[\"close\"].split(\", \")]"
   ]
  },
  {
   "cell_type": "code",
   "execution_count": 7,
   "metadata": {},
   "outputs": [],
   "source": [
    "# for v in htimes.values():\n",
    "#     for group in v:\n",
    "#         group[\"open\"] = [int(i) for i in group[\"open\"].split(\", \")]\n",
    "#         group[\"close\"] = [int(i) for i in group[\"close\"].split(\", \")]"
   ]
  },
  {
   "cell_type": "code",
   "execution_count": 8,
   "metadata": {},
   "outputs": [
    {
     "data": {
      "text/plain": [
       "[{'open': Timestamp('2022-07-19 12:01:00'),\n",
       "  'close': Timestamp('2022-07-19 20:00:00')},\n",
       " {'open': Timestamp('2022-07-20 07:50:00'),\n",
       "  'close': Timestamp('2022-07-20 12:30:00')},\n",
       " {'open': Timestamp('2022-07-20 22:28:00'),\n",
       "  'close': Timestamp('2022-07-21 13:11:00')},\n",
       " {'open': Timestamp('2022-07-21 15:06:00'),\n",
       "  'close': Timestamp('2022-07-21 17:28:00')},\n",
       " {'open': Timestamp('2022-07-21 22:45:00'),\n",
       "  'close': Timestamp('2022-07-22 07:50:00')},\n",
       " {'open': Timestamp('2022-07-22 11:07:00'),\n",
       "  'close': Timestamp('2022-07-22 16:00:00')},\n",
       " {'open': Timestamp('2022-07-22 23:02:00'),\n",
       "  'close': Timestamp('2022-07-23 19:50:00')},\n",
       " {'open': Timestamp('2022-07-24 13:22:00'),\n",
       "  'close': Timestamp('2022-07-24 19:33:00')}]"
      ]
     },
     "execution_count": 8,
     "metadata": {},
     "output_type": "execute_result"
    }
   ],
   "source": [
    "htimes['072522']"
   ]
  },
  {
   "cell_type": "code",
   "execution_count": 11,
   "metadata": {},
   "outputs": [],
   "source": [
    "t = [[i[\"open\"]] + [i[\"close\"]] for i in htimes['072522']]"
   ]
  },
  {
   "cell_type": "code",
   "execution_count": 12,
   "metadata": {},
   "outputs": [],
   "source": [
    "def flatten(l):\n",
    "    return [item for sublist in l for item in sublist]"
   ]
  },
  {
   "cell_type": "code",
   "execution_count": 14,
   "metadata": {},
   "outputs": [],
   "source": [
    "ts = flatten(t)"
   ]
  },
  {
   "cell_type": "code",
   "execution_count": 24,
   "metadata": {},
   "outputs": [
    {
     "data": {
      "text/plain": [
       "datetime.date(2022, 7, 19)"
      ]
     },
     "execution_count": 24,
     "metadata": {},
     "output_type": "execute_result"
    }
   ],
   "source": [
    "ts[0].date()"
   ]
  },
  {
   "cell_type": "code",
   "execution_count": 23,
   "metadata": {},
   "outputs": [
    {
     "data": {
      "text/plain": [
       "True"
      ]
     },
     "execution_count": 23,
     "metadata": {},
     "output_type": "execute_result"
    }
   ],
   "source": [
    "ts[0].time() < ts[1].time()"
   ]
  },
  {
   "cell_type": "code",
   "execution_count": 32,
   "metadata": {},
   "outputs": [
    {
     "data": {
      "text/plain": [
       "[Timestamp('2022-07-19 12:01:00'),\n",
       " Timestamp('2022-07-19 20:00:00'),\n",
       " Timestamp('2022-07-20 07:50:00'),\n",
       " Timestamp('2022-07-20 12:30:00'),\n",
       " Timestamp('2022-07-20 22:28:00'),\n",
       " Timestamp('2022-07-21 13:11:00'),\n",
       " Timestamp('2022-07-21 15:06:00'),\n",
       " Timestamp('2022-07-21 17:28:00'),\n",
       " Timestamp('2022-07-21 22:45:00'),\n",
       " Timestamp('2022-07-22 07:50:00'),\n",
       " Timestamp('2022-07-22 11:07:00'),\n",
       " Timestamp('2022-07-22 16:00:00'),\n",
       " Timestamp('2022-07-22 23:02:00'),\n",
       " Timestamp('2022-07-23 19:50:00'),\n",
       " Timestamp('2022-07-24 13:22:00'),\n",
       " Timestamp('2022-07-24 19:33:00')]"
      ]
     },
     "execution_count": 32,
     "metadata": {},
     "output_type": "execute_result"
    }
   ],
   "source": [
    "ts"
   ]
  },
  {
   "cell_type": "code",
   "execution_count": 44,
   "metadata": {},
   "outputs": [],
   "source": [
    "def check_last_time(time):\n",
    "    times_on_day = []\n",
    "    for t in ts:\n",
    "        if t.date() == time.date():\n",
    "            if time.time() >= t.time():\n",
    "                times_on_day.append(True)\n",
    "                print(t)\n",
    "            else:\n",
    "                print(\"not the last time\")\n",
    "                times_on_day.append(False)\n",
    "    \n",
    "    print(times_on_day)\n",
    "    if times_on_day[-1] == False:\n",
    "        return False\n",
    "    else:\n",
    "        return True\n",
    "\n",
    "    # check if this time is the last time on the day "
   ]
  },
  {
   "cell_type": "code",
   "execution_count": 46,
   "metadata": {},
   "outputs": [
    {
     "name": "stdout",
     "output_type": "stream",
     "text": [
      "2022-07-22 07:50:00\n",
      "2022-07-22 11:07:00\n",
      "2022-07-22 16:00:00\n",
      "2022-07-22 23:02:00\n",
      "[True, True, True, True]\n"
     ]
    },
    {
     "data": {
      "text/plain": [
       "True"
      ]
     },
     "execution_count": 46,
     "metadata": {},
     "output_type": "execute_result"
    }
   ],
   "source": [
    "check_last_time(ts[12])"
   ]
  },
  {
   "cell_type": "code",
   "execution_count": 59,
   "metadata": {},
   "outputs": [
    {
     "data": {
      "text/plain": [
       "[{'field': 'Through: 07/19'},\n",
       " {'field': 'Through: AllDays'},\n",
       " {'field': 'Until: 12:01'},\n",
       " {'field': 0.0},\n",
       " {'field': 'Through: 07/19'},\n",
       " {'field': 'Through: AllDays'},\n",
       " {'field': 'Until: 20:00'},\n",
       " {'field': 1.0},\n",
       " {'field': 'Through: 07/20'},\n",
       " {'field': 'Through: AllDays'},\n",
       " {'field': 'Until: 07:50'},\n",
       " {'field': 0.0},\n",
       " {'field': 'Through: 07/20'},\n",
       " {'field': 'Through: AllDays'},\n",
       " {'field': 'Until: 12:30'},\n",
       " {'field': 1.0},\n",
       " {'field': 'Through: 07/20'},\n",
       " {'field': 'Through: AllDays'},\n",
       " {'field': 'Until: 22:28'},\n",
       " {'field': 0.0},\n",
       " {'field': 'Through: 07/21'},\n",
       " {'field': 'Through: AllDays'},\n",
       " {'field': 'Until: 13:11'},\n",
       " {'field': 1.0},\n",
       " {'field': 'Through: 07/21'},\n",
       " {'field': 'Through: AllDays'},\n",
       " {'field': 'Until: 15:06'},\n",
       " {'field': 0.0},\n",
       " {'field': 'Through: 07/21'},\n",
       " {'field': 'Through: AllDays'},\n",
       " {'field': 'Until: 17:28'},\n",
       " {'field': 1.0},\n",
       " {'field': 'Through: 07/21'},\n",
       " {'field': 'Through: AllDays'},\n",
       " {'field': 'Until: 22:45'},\n",
       " {'field': 0.0},\n",
       " {'field': 'Through: 07/22'},\n",
       " {'field': 'Through: AllDays'},\n",
       " {'field': 'Until: 07:50'},\n",
       " {'field': 1.0},\n",
       " {'field': 'Through: 07/22'},\n",
       " {'field': 'Through: AllDays'},\n",
       " {'field': 'Until: 11:07'},\n",
       " {'field': 0.0},\n",
       " {'field': 'Through: 07/22'},\n",
       " {'field': 'Through: AllDays'},\n",
       " {'field': 'Until: 16:00'},\n",
       " {'field': 1.0},\n",
       " {'field': 'Through: 07/22'},\n",
       " {'field': 'Through: AllDays'},\n",
       " {'field': 'Until: 23:02'},\n",
       " {'field': 0.0},\n",
       " {'field': 'Through: 07/23'},\n",
       " {'field': 'Through: AllDays'},\n",
       " {'field': 'Until: 19:50'},\n",
       " {'field': 1.0},\n",
       " {'field': 'Through: 07/24'},\n",
       " {'field': 'Through: AllDays'},\n",
       " {'field': 'Until: 13:22'},\n",
       " {'field': 0.0},\n",
       " {'field': 'Through: 07/24'},\n",
       " {'field': 'Through: AllDays'},\n",
       " {'field': 'Until: 19:33'},\n",
       " {'field': 1.0}]"
      ]
     },
     "execution_count": 59,
     "metadata": {},
     "output_type": "execute_result"
    }
   ],
   "source": [
    "data = [None]*len(htimes['072522'])*8\n",
    "for i, time in enumerate(htimes['072522']):\n",
    "    ot = time[\"open\"]\n",
    "    ix = i*(7+1)  \n",
    "    data[ix] = {\"field\": f\"Through: {ot.strftime(format='%m/%d')}\"}\n",
    "    data[ix+1] = {\"field\": f\"Through: AllDays\"}\n",
    "    data[ix+2] = {\"field\": f\"Until: {ot.strftime(format='%H:%M')}\"}\n",
    "    data[ix+3] = {\"field\": 0.0}\n",
    "\n",
    "    \n",
    "    ct = time[\"close\"]\n",
    "    data[ix+4] = {\"field\": f\"Through: {ct.strftime(format='%m/%d')}\"}\n",
    "    data[ix+5] = {\"field\": f\"Through: AllDays\"}\n",
    "    data[ix+6] = {\"field\": f\"Until: {ct.strftime(format='%H:%M')}\"}\n",
    "    data[ix+7] = {\"field\": 1.0}\n",
    "    \n",
    "    # TODO: check if last entry on a day, then add an until 24\n",
    "data"
   ]
  }
 ],
 "metadata": {
  "kernelspec": {
   "display_name": "bemvenv",
   "language": "python",
   "name": "python3"
  },
  "language_info": {
   "codemirror_mode": {
    "name": "ipython",
    "version": 3
   },
   "file_extension": ".py",
   "mimetype": "text/x-python",
   "name": "python",
   "nbconvert_exporter": "python",
   "pygments_lexer": "ipython3",
   "version": "3.9.15"
  },
  "orig_nbformat": 4,
  "vscode": {
   "interpreter": {
    "hash": "5be454c65b63a7289b24d02e50a650166e6fc25a8d3567c38c97c5abc5623162"
   }
  }
 },
 "nbformat": 4,
 "nbformat_minor": 2
}
