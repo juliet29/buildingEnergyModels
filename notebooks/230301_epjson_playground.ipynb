{
 "cells": [
  {
   "cell_type": "code",
   "execution_count": 10,
   "metadata": {},
   "outputs": [],
   "source": [
    "import os, json\n",
    "from icecream import ic\n",
    "ic.configureOutput(includeContext=True)\n",
    "from copy import deepcopy\n",
    "import pandas as pd\n",
    "from collections import OrderedDict\n"
   ]
  },
  {
   "cell_type": "code",
   "execution_count": 1,
   "metadata": {},
   "outputs": [],
   "source": [
    "import sys\n",
    "sys.path.insert(0, \"../scripts\")\n",
    "from schedules import *"
   ]
  },
  {
   "cell_type": "code",
   "execution_count": 6,
   "metadata": {},
   "outputs": [],
   "source": [
    "filename = \"/Users/julietnwagwuume-ezeoke/_UILCode/windows/analysis/constants/window_treatment.json\""
   ]
  },
  {
   "cell_type": "code",
   "execution_count": 5,
   "metadata": {},
   "outputs": [],
   "source": [
    "filename = \"/Users/julietnwagwuume-ezeoke/_UILCode/windows/analysis/constants/htimes.json\" # os  => open studio model \n",
    "with open(filename) as f:\n",
    "    htimes = json.load(f)\n",
    "\n",
    "for v in htimes.values():\n",
    "    for group in v:\n",
    "        group[\"open\"] = pd.to_datetime(group[\"open\"], format= '%Y, %m, %d, %H, %M' )\n",
    "        group[\"close\"] = pd.to_datetime(group[\"close\"], format= '%Y, %m, %d, %H, %M' )"
   ]
  },
  {
   "cell_type": "code",
   "execution_count": 33,
   "metadata": {},
   "outputs": [
    {
     "name": "stdout",
     "output_type": "stream",
     "text": [
      "{'422a': 'Open', '422b': 'Sometimes Open', 'cutoff_times': {'start': Timestamp('2022-07-20 07:20:00'), 'end': Timestamp('2022-07-24 07:20:00')}}\n",
      "{'422a': 'Sometimes Closed', '422b': 'Closed', 'cutoff_times': {'start': Timestamp('2022-07-27 09:00:00'), 'end': Timestamp('2022-08-10 20:00:00')}}\n",
      "{'422a': 'Sometimes Closed', '422b': 'Closed', 'cutoff_times': {'start': Timestamp('2022-09-08 08:00:00'), 'end': Timestamp('2022-09-11 08:00:00')}}\n"
     ]
    }
   ],
   "source": [
    "filename = \"/Users/julietnwagwuume-ezeoke/_UILCode/windows/analysis/constants/window_treatment.json\"\n",
    "with open(filename) as f:\n",
    "    htimes = json.load(f)\n",
    "\n",
    "for v in htimes.values():\n",
    "    v[\"cutoff_times\"][\"start\"] = pd.to_datetime(v[\"cutoff_times\"][\"start\"], format= '%Y, %m, %d, %H, %M' )\n",
    "\n",
    "    v[\"cutoff_times\"][\"end\"] = pd.to_datetime(v[\"cutoff_times\"][\"end\"], format= '%Y, %m, %d, %H, %M' )\n",
    "    print(v)\n",
    "    # for group in v:\n",
    "    #     group[\"open\"] = pd.to_datetime(group[\"open\"], format= '%Y, %m, %d, %H, %M' )\n",
    "    #     group[\"close\"] = pd.to_datetime(group[\"close\"], format= '%Y, %m, %d, %H, %M' )"
   ]
  },
  {
   "cell_type": "code",
   "execution_count": 34,
   "metadata": {},
   "outputs": [
    {
     "data": {
      "text/plain": [
       "Timestamp('2022-07-20 07:20:00')"
      ]
     },
     "execution_count": 34,
     "metadata": {},
     "output_type": "execute_result"
    }
   ],
   "source": [
    "# htimes = OrderedDict(htimes)\n",
    "htimes = list(htimes.values())\n",
    "htimes[0][\"cutoff_times\"][\"start\"]"
   ]
  },
  {
   "cell_type": "code",
   "execution_count": 35,
   "metadata": {},
   "outputs": [
    {
     "data": {
      "text/plain": [
       "20"
      ]
     },
     "execution_count": 35,
     "metadata": {},
     "output_type": "execute_result"
    }
   ],
   "source": [
    "htimes[0][\"cutoff_times\"][\"start\"].day"
   ]
  },
  {
   "cell_type": "code",
   "execution_count": 41,
   "metadata": {},
   "outputs": [],
   "source": [
    "def make_run_period(ix):\n",
    "        filename = \"/Users/julietnwagwuume-ezeoke/_UILCode/windows/analysis/constants/window_treatment.json\"\n",
    "        with open(filename) as f:\n",
    "            htimes = json.load(f)\n",
    "        for v in htimes.values():\n",
    "            v[\"cutoff_times\"][\"start\"] = pd.to_datetime(v[\"cutoff_times\"][\"start\"], format= '%Y, %m, %d, %H, %M' )\n",
    "            v[\"cutoff_times\"][\"end\"] = pd.to_datetime(v[\"cutoff_times\"][\"end\"], format= '%Y, %m, %d, %H, %M' )\n",
    "\n",
    "        htime = list(htimes.values())[ix][\"cutoff_times\"]\n",
    "        b_month = htime[\"start\"].month\n",
    "        b_day = htime[\"start\"].day\n",
    "        e_month = htime[\"end\"].month\n",
    "        e_day = htime[\"end\"].day\n",
    "        \n",
    "        rp = {\n",
    "        \"apply_weekend_holiday_rule\": \"No\",\n",
    "        \"begin_day_of_month\": b_day,\n",
    "        \"begin_month\": b_month,\n",
    "        \"begin_year\": 2017,\n",
    "        \"end_day_of_month\": e_day,\n",
    "        \"end_month\": e_month,\n",
    "        \"end_year\": 2017,\n",
    "        \"use_weather_file_daylight_saving_period\": \"Yes\",\n",
    "        \"use_weather_file_holidays_and_special_days\": \"Yes\",\n",
    "        \"use_weather_file_rain_indicators\": \"Yes\",\n",
    "        \"use_weather_file_snow_indicators\": \"Yes\"\n",
    "        }\n",
    "        \n",
    "        return rp"
   ]
  },
  {
   "cell_type": "code",
   "execution_count": 42,
   "metadata": {},
   "outputs": [
    {
     "data": {
      "text/plain": [
       "{'apply_weekend_holiday_rule': 'No',\n",
       " 'begin_day_of_month': 20,\n",
       " 'begin_month': 7,\n",
       " 'begin_year': 2017,\n",
       " 'end_day_of_month': 24,\n",
       " 'end_month': 7,\n",
       " 'end_year': 2017,\n",
       " 'use_weather_file_daylight_saving_period': 'Yes',\n",
       " 'use_weather_file_holidays_and_special_days': 'Yes',\n",
       " 'use_weather_file_rain_indicators': 'Yes',\n",
       " 'use_weather_file_snow_indicators': 'Yes'}"
      ]
     },
     "execution_count": 42,
     "metadata": {},
     "output_type": "execute_result"
    }
   ],
   "source": [
    "make_run_period(0)"
   ]
  }
 ],
 "metadata": {
  "kernelspec": {
   "display_name": "bemvenv",
   "language": "python",
   "name": "python3"
  },
  "language_info": {
   "codemirror_mode": {
    "name": "ipython",
    "version": 3
   },
   "file_extension": ".py",
   "mimetype": "text/x-python",
   "name": "python",
   "nbconvert_exporter": "python",
   "pygments_lexer": "ipython3",
   "version": "3.9.15"
  },
  "orig_nbformat": 4,
  "vscode": {
   "interpreter": {
    "hash": "5be454c65b63a7289b24d02e50a650166e6fc25a8d3567c38c97c5abc5623162"
   }
  }
 },
 "nbformat": 4,
 "nbformat_minor": 2
}
