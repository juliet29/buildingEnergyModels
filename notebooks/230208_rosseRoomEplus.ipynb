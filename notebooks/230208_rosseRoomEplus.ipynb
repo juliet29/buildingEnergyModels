{
 "cells": [
  {
   "cell_type": "code",
   "execution_count": 1,
   "metadata": {},
   "outputs": [],
   "source": [
    "import os\n",
    "\n",
    "from ladybug.sql import SQLiteResult\n",
    "from ladybug import analysisperiod as ap\n",
    "\n",
    "from eppy import *\n",
    "from eppy.modeleditor import IDF\n",
    "\n",
    "import pickle"
   ]
  },
  {
   "cell_type": "code",
   "execution_count": 2,
   "metadata": {},
   "outputs": [],
   "source": [
    "root = os.getcwd()\n",
    "output_loc = \"../rosseRoomModel/eppyOut/\""
   ]
  },
  {
   "cell_type": "code",
   "execution_count": 3,
   "metadata": {},
   "outputs": [],
   "source": [
    "IDD_FILE = \"../../../../../Applications/EnergyPlus-9-4-0/Energy+.idd\"\n",
    "WEATHER_FILE = \"../weather/CA_PALO-ALTO-AP_724937S_20.epw\"\n",
    "ORIGINAL_IDF_FILE = \"../rosseRoomModel/rr_NoExpose021223/run/in.idf\"\n",
    "# +rosseRoomModel/rr_NoExpose021223/run/in.idf"
   ]
  },
  {
   "cell_type": "code",
   "execution_count": 4,
   "metadata": {},
   "outputs": [],
   "source": [
    "IDF.setiddname(IDD_FILE)\n",
    "idf0 = IDF(ORIGINAL_IDF_FILE, WEATHER_FILE)"
   ]
  },
  {
   "cell_type": "code",
   "execution_count": 5,
   "metadata": {},
   "outputs": [],
   "source": [
    "# create new directory to save the file \n",
    "def save_updated_idf(adjust_string_name):\n",
    "    new_dir_name = os.path.join(output_loc, adjust_string_name)\n",
    "    os.makedirs(new_dir_name)\n",
    "\n",
    "    # save the updated idf there\n",
    "    idf0.save(os.path.join(new_dir_name, \"in2.idf\"))"
   ]
  },
  {
   "cell_type": "code",
   "execution_count": 6,
   "metadata": {},
   "outputs": [],
   "source": [
    "# run baseline model, concerned about 3 month period between july - september\n",
    "# adjust the surfaces to be inside \n",
    "# adjust the constructions to be realistic..\n",
    "# mess with the hvac...\n",
    "# should see if can get an energyfile for 2022\n",
    "# todo => make all the models, set up post processing, then run...\n"
   ]
  },
  {
   "cell_type": "code",
   "execution_count": 7,
   "metadata": {},
   "outputs": [],
   "source": [
    "# # baseline edits, change the run period\n",
    "# runPeriod = idf0.idfobjects[\"RunPeriod\"][0]\n",
    "# runPeriod.Begin_Month = 7\n",
    "# runPeriod.Begin_Year = 2020\n",
    "# runPeriod.Begin_Day_of_Month = 15\n",
    "# runPeriod.End_Month = 9\n",
    "# runPeriod.End_Day_of_Month = 15\n",
    "# runPeriod.End_Year = 2020\n",
    "\n",
    "# save_updated_idf(\"_01_baseline\")"
   ]
  },
  {
   "cell_type": "code",
   "execution_count": 8,
   "metadata": {},
   "outputs": [
    {
     "name": "stdout",
     "output_type": "stream",
     "text": [
      "27\n"
     ]
    }
   ],
   "source": [
    "valid_obj = []\n",
    "for k in idf0.idfobjects.keys():\n",
    "    if len(idf0.idfobjects[k]) > 0:\n",
    "        valid_obj.append(k)\n",
    "print(len(k))"
   ]
  },
  {
   "cell_type": "code",
   "execution_count": 9,
   "metadata": {},
   "outputs": [
    {
     "data": {
      "text/plain": [
       "815"
      ]
     },
     "execution_count": 9,
     "metadata": {},
     "output_type": "execute_result"
    }
   ],
   "source": [
    "all_obj = [k for k in idf0.idfobjects.keys()]\n",
    "len(all_obj)"
   ]
  },
  {
   "cell_type": "code",
   "execution_count": 10,
   "metadata": {},
   "outputs": [],
   "source": [
    "valid_obj = {}\n",
    "for k in idf0.idfobjects.keys():\n",
    "    if len(idf0.idfobjects[k]) > 0:\n",
    "        valid_obj[k] = idf0.idfobjects[k]"
   ]
  },
  {
   "cell_type": "code",
   "execution_count": 11,
   "metadata": {},
   "outputs": [
    {
     "data": {
      "text/plain": [
       "dict_keys(['VERSION', 'SIMULATIONCONTROL', 'BUILDING', 'SHADOWCALCULATION', 'SURFACECONVECTIONALGORITHM:INSIDE', 'SURFACECONVECTIONALGORITHM:OUTSIDE', 'HEATBALANCEALGORITHM', 'ZONEAIRHEATBALANCEALGORITHM', 'ZONEAIRCONTAMINANTBALANCE', 'ZONECAPACITANCEMULTIPLIER:RESEARCHSPECIAL', 'TIMESTEP', 'CONVERGENCELIMITS', 'SITE:LOCATION', 'RUNPERIOD', 'SCHEDULETYPELIMITS', 'SCHEDULE:DAY:INTERVAL', 'SCHEDULE:WEEK:DAILY', 'SCHEDULE:YEAR', 'SCHEDULE:CONSTANT', 'MATERIAL', 'MATERIAL:NOMASS', 'MATERIAL:AIRGAP', 'WINDOWMATERIAL:GLAZING', 'CONSTRUCTION', 'GLOBALGEOMETRYRULES', 'SIZING:PARAMETERS', 'OUTDOORAIR:NODE', 'LIFECYCLECOST:PARAMETERS', 'LIFECYCLECOST:NONRECURRINGCOST', 'LIFECYCLECOST:USEPRICEESCALATION', 'OUTPUT:VARIABLEDICTIONARY', 'OUTPUT:TABLE:SUMMARYREPORTS', 'OUTPUT:TABLE:MONTHLY', 'OUTPUTCONTROL:TABLE:STYLE', 'OUTPUTCONTROL:REPORTINGTOLERANCES', 'OUTPUT:VARIABLE', 'OUTPUT:METER', 'OUTPUT:METER:METERFILEONLY', 'OUTPUT:JSON', 'OUTPUT:SQLITE'])"
      ]
     },
     "execution_count": 11,
     "metadata": {},
     "output_type": "execute_result"
    }
   ],
   "source": [
    "valid_obj.keys()"
   ]
  }
 ],
 "metadata": {
  "kernelspec": {
   "display_name": "bemvenv",
   "language": "python",
   "name": "python3"
  },
  "language_info": {
   "codemirror_mode": {
    "name": "ipython",
    "version": 3
   },
   "file_extension": ".py",
   "mimetype": "text/x-python",
   "name": "python",
   "nbconvert_exporter": "python",
   "pygments_lexer": "ipython3",
   "version": "3.9.15"
  },
  "orig_nbformat": 4,
  "vscode": {
   "interpreter": {
    "hash": "5be454c65b63a7289b24d02e50a650166e6fc25a8d3567c38c97c5abc5623162"
   }
  }
 },
 "nbformat": 4,
 "nbformat_minor": 2
}
